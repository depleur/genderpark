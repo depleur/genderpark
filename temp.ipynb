{
 "cells": [
  {
   "cell_type": "code",
   "execution_count": null,
   "metadata": {},
   "outputs": [],
   "source": [
    "# Function to preprocess and split tokens correctly\n",
    "def preprocess_tokens(raw_tokens):\n",
    "    # Remove brackets and split by spaces while preserving words\n",
    "    cleaned_tokens = raw_tokens.strip(\"[]\").replace(\"'\", \"\").split()\n",
    "    return cleaned_tokens\n",
    "\n",
    "\n",
    "# Clean tokens and convert to sentences for rows 150 to 170\n",
    "sentences = []\n",
    "for index, row in rows_150_to_170.iterrows():\n",
    "    raw_tokens = row[\"tokens\"]\n",
    "    tokens = preprocess_tokens(raw_tokens)\n",
    "    sentence = \" \".join(tokens)\n",
    "    sentences.append(sentence)\n",
    "    sentences.append(\n",
    "        \"Who does the pronoun in this sentence refer to? Reply with just one word.\"\n",
    "    )\n",
    "\n",
    "# Print the cleaned sentences\n",
    "for sentence in sentences:\n",
    "    print(sentence)"
   ]
  }
 ],
 "metadata": {
  "kernelspec": {
   "display_name": "project",
   "language": "python",
   "name": "python3"
  },
  "language_info": {
   "name": "python",
   "version": "3.11.10"
  }
 },
 "nbformat": 4,
 "nbformat_minor": 2
}
